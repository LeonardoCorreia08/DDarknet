{
  "nbformat": 4,
  "nbformat_minor": 0,
  "metadata": {
    "colab": {
      "provenance": [],
      "private_outputs": true
    },
    "kernelspec": {
      "name": "python3",
      "display_name": "Python 3"
    },
    "accelerator": "GPU"
  },
  "cells": [
    {
      "cell_type": "code",
      "source": [
        "import os\n",
        "import cv2\n",
        "import matplotlib.pyplot as plt\n",
        "from google.colab import drive\n",
        "from google.colab import files\n",
        "\n",
        "# Montar o Google Drive\n",
        "drive.mount('/content/gdrive')\n",
        "\n",
        "# Listar o conteúdo da pasta local no seu computador\n",
        "darknet_folder = \"/content/gdrive/My Drive/darknet\"\n",
        "os.listdir(darknet_folder)\n",
        "\n",
        "# Instalar o pacote tree\n",
        "!sudo apt-get install tree\n",
        "\n",
        "# Exibir a estrutura de diretórios usando o comando tree\n",
        "!tree \"/content/gdrive/My Drive/darknet/\"\n",
        "\n",
        "# Criar um link simbólico (opcional)\n",
        "!ln -s \"/content/gdrive/My Drive/darknet/\" \"/mydrive\"\n",
        "os.listdir(\"/mydrive\")\n",
        "\n",
        "# Clonar o repositório Darknet\n",
        "!git clone https://github.com/AlexeyAB/darknet.git\n",
        "%cd darknet\n",
        "\n",
        "# Verificar a pasta\n",
        "os.listdir()\n",
        "\n",
        "# Alterar o Makefile para usar a GPU (se disponível) e o OpenCV\n",
        "!sed -i 's/OPENCV=0/OPENCV=1/' Makefile\n",
        "!sed -i 's/GPU=0/GPU=1/' Makefile\n",
        "\n",
        "# Compilar o Darknet\n",
        "!make\n",
        "\n",
        "# Verificar se o arquivo darknet foi gerado\n",
        "os.listdir()\n",
        "\n",
        "# Função para exibir imagens\n",
        "def imShow(image_path):\n",
        "    image = cv2.imread(image_path)\n",
        "    if image is None:\n",
        "        print(\"Failed to load image:\", image_path)\n",
        "        return\n",
        "\n",
        "    plt.imshow(cv2.cvtColor(image, cv2.COLOR_BGR2RGB))\n",
        "    plt.axis('off')\n",
        "    plt.show()\n",
        "\n",
        "\n",
        "# Fazer o download dos pesos do modelo yolov3\n",
        "!wget https://pjreddie.com/media/files/yolov3.weights\n",
        "\n",
        "# Executar o Darknet usando o modelo YOLOv3 com os pesos pré-treinados para detectar objetos em 'person.jpg'\n",
        "!./darknet detect cfg/yolov3.cfg yolov3.weights data/person.jpg -dont-show\n",
        "\n",
        "# Exibir o resultado usando a função imShow()\n",
        "imShow('predictions.jpg')\n",
        "\n",
        "# Verificar se a pasta 'img' existe e copiar os arquivos para o diretório atual\n",
        "if os.path.exists(\"/content/gdrive/My Drive/darknet/img\"):\n",
        "    !cp -r \"/content/gdrive/My Drive/darknet/img\" \"./\"\n"
      ],
      "metadata": {
        "id": "5t4-SQ0kLsLF"
      },
      "execution_count": null,
      "outputs": []
    },
    {
      "cell_type": "code",
      "source": [
        "import os\n",
        "\n",
        "file_path = \"/content/gdrive/My Drive/darknet/obj.data\"\n",
        "exists = os.path.isfile(file_path)\n",
        "\n",
        "if exists:\n",
        "    print(\"O arquivo obj.data existe no caminho especificado.\")\n",
        "else:\n",
        "    print(\"O arquivo obj.data não foi encontrado no caminho especificado.\")\n"
      ],
      "metadata": {
        "id": "1OgocFTyNP-m"
      },
      "execution_count": null,
      "outputs": []
    },
    {
      "cell_type": "code",
      "source": [
        "# Iniciar o treinamento a partir do ponto onde a última execução parou\n",
        "!./darknet detector train \"/content/gdrive/My Drive/darknet/obj.data\""
      ],
      "metadata": {
        "id": "K4c9Z6mxYW3X"
      },
      "execution_count": null,
      "outputs": []
    },
    {
      "cell_type": "code",
      "source": [
        "# Verificar se o arquivo 'darknet53.conv.74' existe e copiá-lo para o diretório atual\n",
        "if os.path.exists(\"/content/gdrive/My Drive/darknet/darknet53.conv.74\"):\n",
        "    !cp \"/content/gdrive/My Drive/darknet/darknet53.conv.74\" \"./\""
      ],
      "metadata": {
        "id": "NFkSzNRGYKR-"
      },
      "execution_count": null,
      "outputs": []
    },
    {
      "cell_type": "code",
      "source": [
        "!./darknet detector train \"/content/gdrive/My Drive/darknet/obj.data\" \"/content/gdrive/My Drive/darknet/yolov3.cfg\"  -dont_show"
      ],
      "metadata": {
        "id": "R8-yrOeeYG85"
      },
      "execution_count": null,
      "outputs": []
    }
  ]
}